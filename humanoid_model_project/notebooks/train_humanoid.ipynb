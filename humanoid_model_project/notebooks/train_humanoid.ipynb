{
    "nbformat": 4,
    "nbformat_minor": 5,
    "metadata": {
      "kernelspec": {
        "name": "python3",
        "display_name": "Python 3"
      },
      "language_info": {
        "name": "python",
        "version": "3.8"
      }
    },
    "cells": [
      {
        "cell_type": "markdown",
        "metadata": {},
        "source": [
          "## 1. Install & imports"
        ]
      },
      {
        "cell_type": "code",
        "execution_count": null,
        "metadata": {},
        "outputs": [],
        "source": [
          "!pip install -q -r ../requirements.txt\n",
          "import sys\n",
          "sys.path.append(\"..\")\n",
          "import yaml\n",
          "import numpy as np\n",
          "import gym\n",
          "from stable_baselines3 import PPO\n",
          "from utils.data_loader import load_demonstrations\n",
          "from envs.humanoid_demo_env import HumanoidDemoEnv"
        ]
      },
      {
        "cell_type": "markdown",
        "metadata": {},
        "source": [
          "## 2. Load config + demo data"
        ]
      },
      {
        "cell_type": "code",
        "execution_count": null,
        "metadata": {},
        "outputs": [],
        "source": [
          "with open(\"../config.yaml\") as f:\n",
          "    cfg = yaml.safe_load(f)\n",
          "\n",
          "demo_states, demo_actions = load_demonstrations(cfg[\"csv_path\"])"
        ]
      },
      {
        "cell_type": "markdown",
        "metadata": {},
        "source": [
          "## 3. Create environment & RL model"
        ]
      },
      {
        "cell_type": "code",
        "execution_count": null,
        "metadata": {},
        "outputs": [],
        "source": [
          "env = HumanoidDemoEnv(\n",
          "    xml_path=cfg[\"xml_path\"],\n",
          "    demo_states=demo_states,\n",
          "    demo_actions=demo_actions,\n",
          "    cfg=cfg\n",
          ")\n",
          "\n",
          "model = PPO(\n",
          "    policy=\"MlpPolicy\",\n",
          "    env=env,\n",
          "    learning_rate=cfg[\"learning_rate\"],\n",
          "    n_steps=cfg[\"n_steps\"],\n",
          "    batch_size=cfg[\"batch_size\"],\n",
          "    gamma=cfg[\"gamma\"],\n",
          "    verbose=1,\n",
          "    tensorboard_log=\"./tensorboard/\"\n",
          ")"
        ]
      },
      {
        "cell_type": "markdown",
        "metadata": {},
        "source": [
          "## 4. Train the model"
        ]
      },
      {
        "cell_type": "code",
        "execution_count": null,
        "metadata": {},
        "outputs": [],
        "source": [
          "model.learn(total_timesteps=cfg[\"total_timesteps\"])\n",
          "model.save(\"ppo_humanoid\")"
        ]
      },
      {
        "cell_type": "markdown",
        "metadata": {},
        "source": [
          "## 5. Evaluate & render"
        ]
      },
      {
        "cell_type": "code",
        "execution_count": null,
        "metadata": {},
        "outputs": [],
        "source": [
          "env.use_imitation = False\n",
          "obs = env.reset()\n",
          "for _ in range(1000):\n",
          "    action, _ = model.predict(obs)\n",
          "    obs, _, _, _ = env.step(action)\n",
          "    env.render()"
        ]
      }
    ]
  }

