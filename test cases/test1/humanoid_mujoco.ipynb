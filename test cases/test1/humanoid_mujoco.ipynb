{
 "cells": [
  {
   "cell_type": "markdown",
   "id": "6dc051f2",
   "metadata": {},
   "source": [
    "# Humanoid MuJoCo Simulation in Python\n",
    "This notebook demonstrates how to set up, run, and customize a humanoid model in MuJoCo using Python."
   ]
  },
  {
   "cell_type": "markdown",
   "id": "59cc52b5",
   "metadata": {},
   "source": [
    "## 1. Installation\n",
    "Install MuJoCo, the Python bindings, and Gym environment."
   ]
  },
  {
   "cell_type": "code",
   "execution_count": null,
   "id": "bb1966c3",
   "metadata": {},
   "outputs": [
    {
     "name": "stdout",
     "output_type": "stream",
     "text": [
      "Requirement already satisfied: mujoco in ./venv/lib/python3.13/site-packages (3.3.4)\n",
      "Requirement already satisfied: gym in ./venv/lib/python3.13/site-packages (0.26.2)\n",
      "Requirement already satisfied: setuptools in ./venv/lib/python3.13/site-packages (80.9.0)\n",
      "Requirement already satisfied: absl-py in ./venv/lib/python3.13/site-packages (from mujoco) (2.3.1)\n",
      "Requirement already satisfied: etils[epath] in ./venv/lib/python3.13/site-packages (from mujoco) (1.13.0)\n",
      "Requirement already satisfied: glfw in ./venv/lib/python3.13/site-packages (from mujoco) (2.9.0)\n",
      "Requirement already satisfied: numpy in ./venv/lib/python3.13/site-packages (from mujoco) (2.3.1)\n",
      "Requirement already satisfied: pyopengl in ./venv/lib/python3.13/site-packages (from mujoco) (3.1.9)\n",
      "Requirement already satisfied: cloudpickle>=1.2.0 in ./venv/lib/python3.13/site-packages (from gym) (3.1.1)\n",
      "Requirement already satisfied: gym_notices>=0.0.4 in ./venv/lib/python3.13/site-packages (from gym) (0.0.8)\n",
      "Requirement already satisfied: fsspec in ./venv/lib/python3.13/site-packages (from etils[epath]->mujoco) (2025.7.0)\n",
      "Requirement already satisfied: importlib_resources in ./venv/lib/python3.13/site-packages (from etils[epath]->mujoco) (6.5.2)\n",
      "Requirement already satisfied: typing_extensions in ./venv/lib/python3.13/site-packages (from etils[epath]->mujoco) (4.14.1)\n",
      "Requirement already satisfied: zipp in ./venv/lib/python3.13/site-packages (from etils[epath]->mujoco) (3.23.0)\n",
      "Note: you may need to restart the kernel to use updated packages.\n"
     ]
    }
   ],
   "source": [
    "%pip install mujoco \"gymnasium[mujoco]\" \"numpy<2.0\" setuptools"
   ]
  },
  {
   "cell_type": "markdown",
   "id": "8c0366a0",
   "metadata": {},
   "source": [
    "## 2. Running the Built-in Humanoid-v4 Environment"
   ]
  },
  {
   "cell_type": "code",
   "execution_count": null,
   "id": "89c6a6ef",
   "metadata": {},
   "outputs": [
    {
     "ename": "AttributeError",
     "evalue": "module 'numpy' has no attribute 'bool8'",
     "output_type": "error",
     "traceback": [
      "\u001b[31m---------------------------------------------------------------------------\u001b[39m",
      "\u001b[31mAttributeError\u001b[39m                            Traceback (most recent call last)",
      "\u001b[36mCell\u001b[39m\u001b[36m \u001b[39m\u001b[32mIn[9]\u001b[39m\u001b[32m, line 9\u001b[39m\n\u001b[32m      7\u001b[39m \u001b[38;5;28;01mfor\u001b[39;00m _ \u001b[38;5;129;01min\u001b[39;00m \u001b[38;5;28mrange\u001b[39m(\u001b[32m500\u001b[39m):\n\u001b[32m      8\u001b[39m     action = env.action_space.sample()\n\u001b[32m----> \u001b[39m\u001b[32m9\u001b[39m     obs, reward, done, info = \u001b[43menv\u001b[49m\u001b[43m.\u001b[49m\u001b[43mstep\u001b[49m\u001b[43m(\u001b[49m\u001b[43maction\u001b[49m\u001b[43m)\u001b[49m\n\u001b[32m     10\u001b[39m     env.render()\n\u001b[32m     11\u001b[39m     \u001b[38;5;28;01mif\u001b[39;00m done:\n",
      "\u001b[36mFile \u001b[39m\u001b[32m~/Coding/Movement_Tracking_Mujoco/venv/lib/python3.13/site-packages/gym/wrappers/time_limit.py:50\u001b[39m, in \u001b[36mTimeLimit.step\u001b[39m\u001b[34m(self, action)\u001b[39m\n\u001b[32m     39\u001b[39m \u001b[38;5;28;01mdef\u001b[39;00m\u001b[38;5;250m \u001b[39m\u001b[34mstep\u001b[39m(\u001b[38;5;28mself\u001b[39m, action):\n\u001b[32m     40\u001b[39m \u001b[38;5;250m    \u001b[39m\u001b[33;03m\"\"\"Steps through the environment and if the number of steps elapsed exceeds ``max_episode_steps`` then truncate.\u001b[39;00m\n\u001b[32m     41\u001b[39m \n\u001b[32m     42\u001b[39m \u001b[33;03m    Args:\u001b[39;00m\n\u001b[32m   (...)\u001b[39m\u001b[32m     48\u001b[39m \n\u001b[32m     49\u001b[39m \u001b[33;03m    \"\"\"\u001b[39;00m\n\u001b[32m---> \u001b[39m\u001b[32m50\u001b[39m     observation, reward, terminated, truncated, info = \u001b[38;5;28;43mself\u001b[39;49m\u001b[43m.\u001b[49m\u001b[43menv\u001b[49m\u001b[43m.\u001b[49m\u001b[43mstep\u001b[49m\u001b[43m(\u001b[49m\u001b[43maction\u001b[49m\u001b[43m)\u001b[49m\n\u001b[32m     51\u001b[39m     \u001b[38;5;28mself\u001b[39m._elapsed_steps += \u001b[32m1\u001b[39m\n\u001b[32m     53\u001b[39m     \u001b[38;5;28;01mif\u001b[39;00m \u001b[38;5;28mself\u001b[39m._elapsed_steps >= \u001b[38;5;28mself\u001b[39m._max_episode_steps:\n",
      "\u001b[36mFile \u001b[39m\u001b[32m~/Coding/Movement_Tracking_Mujoco/venv/lib/python3.13/site-packages/gym/wrappers/order_enforcing.py:37\u001b[39m, in \u001b[36mOrderEnforcing.step\u001b[39m\u001b[34m(self, action)\u001b[39m\n\u001b[32m     35\u001b[39m \u001b[38;5;28;01mif\u001b[39;00m \u001b[38;5;129;01mnot\u001b[39;00m \u001b[38;5;28mself\u001b[39m._has_reset:\n\u001b[32m     36\u001b[39m     \u001b[38;5;28;01mraise\u001b[39;00m ResetNeeded(\u001b[33m\"\u001b[39m\u001b[33mCannot call env.step() before calling env.reset()\u001b[39m\u001b[33m\"\u001b[39m)\n\u001b[32m---> \u001b[39m\u001b[32m37\u001b[39m \u001b[38;5;28;01mreturn\u001b[39;00m \u001b[38;5;28;43mself\u001b[39;49m\u001b[43m.\u001b[49m\u001b[43menv\u001b[49m\u001b[43m.\u001b[49m\u001b[43mstep\u001b[49m\u001b[43m(\u001b[49m\u001b[43maction\u001b[49m\u001b[43m)\u001b[49m\n",
      "\u001b[36mFile \u001b[39m\u001b[32m~/Coding/Movement_Tracking_Mujoco/venv/lib/python3.13/site-packages/gym/wrappers/env_checker.py:37\u001b[39m, in \u001b[36mPassiveEnvChecker.step\u001b[39m\u001b[34m(self, action)\u001b[39m\n\u001b[32m     35\u001b[39m \u001b[38;5;28;01mif\u001b[39;00m \u001b[38;5;28mself\u001b[39m.checked_step \u001b[38;5;129;01mis\u001b[39;00m \u001b[38;5;28;01mFalse\u001b[39;00m:\n\u001b[32m     36\u001b[39m     \u001b[38;5;28mself\u001b[39m.checked_step = \u001b[38;5;28;01mTrue\u001b[39;00m\n\u001b[32m---> \u001b[39m\u001b[32m37\u001b[39m     \u001b[38;5;28;01mreturn\u001b[39;00m \u001b[43menv_step_passive_checker\u001b[49m\u001b[43m(\u001b[49m\u001b[38;5;28;43mself\u001b[39;49m\u001b[43m.\u001b[49m\u001b[43menv\u001b[49m\u001b[43m,\u001b[49m\u001b[43m \u001b[49m\u001b[43maction\u001b[49m\u001b[43m)\u001b[49m\n\u001b[32m     38\u001b[39m \u001b[38;5;28;01melse\u001b[39;00m:\n\u001b[32m     39\u001b[39m     \u001b[38;5;28;01mreturn\u001b[39;00m \u001b[38;5;28mself\u001b[39m.env.step(action)\n",
      "\u001b[36mFile \u001b[39m\u001b[32m~/Coding/Movement_Tracking_Mujoco/venv/lib/python3.13/site-packages/gym/utils/passive_env_checker.py:233\u001b[39m, in \u001b[36menv_step_passive_checker\u001b[39m\u001b[34m(env, action)\u001b[39m\n\u001b[32m    230\u001b[39m obs, reward, terminated, truncated, info = result\n\u001b[32m    232\u001b[39m \u001b[38;5;66;03m# np.bool is actual python bool not np boolean type, therefore bool_ or bool8\u001b[39;00m\n\u001b[32m--> \u001b[39m\u001b[32m233\u001b[39m \u001b[38;5;28;01mif\u001b[39;00m \u001b[38;5;129;01mnot\u001b[39;00m \u001b[38;5;28misinstance\u001b[39m(terminated, (\u001b[38;5;28mbool\u001b[39m, \u001b[43mnp\u001b[49m\u001b[43m.\u001b[49m\u001b[43mbool8\u001b[49m)):\n\u001b[32m    234\u001b[39m     logger.warn(\n\u001b[32m    235\u001b[39m         \u001b[33mf\u001b[39m\u001b[33m\"\u001b[39m\u001b[33mExpects `terminated` signal to be a boolean, actual type: \u001b[39m\u001b[38;5;132;01m{\u001b[39;00m\u001b[38;5;28mtype\u001b[39m(terminated)\u001b[38;5;132;01m}\u001b[39;00m\u001b[33m\"\u001b[39m\n\u001b[32m    236\u001b[39m     )\n\u001b[32m    237\u001b[39m \u001b[38;5;28;01mif\u001b[39;00m \u001b[38;5;129;01mnot\u001b[39;00m \u001b[38;5;28misinstance\u001b[39m(truncated, (\u001b[38;5;28mbool\u001b[39m, np.bool8)):\n",
      "\u001b[36mFile \u001b[39m\u001b[32m~/Coding/Movement_Tracking_Mujoco/venv/lib/python3.13/site-packages/numpy/__init__.py:795\u001b[39m, in \u001b[36m__getattr__\u001b[39m\u001b[34m(attr)\u001b[39m\n\u001b[32m    792\u001b[39m     \u001b[38;5;28;01mimport\u001b[39;00m\u001b[38;5;250m \u001b[39m\u001b[34;01mnumpy\u001b[39;00m\u001b[34;01m.\u001b[39;00m\u001b[34;01mchar\u001b[39;00m\u001b[38;5;250m \u001b[39m\u001b[38;5;28;01mas\u001b[39;00m\u001b[38;5;250m \u001b[39m\u001b[34;01mchar\u001b[39;00m\n\u001b[32m    793\u001b[39m     \u001b[38;5;28;01mreturn\u001b[39;00m char.chararray\n\u001b[32m--> \u001b[39m\u001b[32m795\u001b[39m \u001b[38;5;28;01mraise\u001b[39;00m \u001b[38;5;167;01mAttributeError\u001b[39;00m(\u001b[33mf\u001b[39m\u001b[33m\"\u001b[39m\u001b[33mmodule \u001b[39m\u001b[38;5;132;01m{\u001b[39;00m\u001b[34m__name__\u001b[39m\u001b[38;5;132;01m!r}\u001b[39;00m\u001b[33m has no attribute \u001b[39m\u001b[38;5;132;01m{\u001b[39;00mattr\u001b[38;5;132;01m!r}\u001b[39;00m\u001b[33m\"\u001b[39m)\n",
      "\u001b[31mAttributeError\u001b[39m: module 'numpy' has no attribute 'bool8'"
     ]
    }
   ],
   "source": [
    "import gymnasium as gym\n",
    "\n",
    "# Create the built-in MuJoCo Humanoid environment  \n",
    "env = gym.make('Humanoid-v5', render_mode='human')  \n",
    "obs, info = env.reset()\n",
    "\n",
    "for _ in range(500):\n",
    "    action = env.action_space.sample()\n",
    "    obs, reward, terminated, truncated, info = env.step(action)\n",
    "    \n",
    "    if terminated or truncated:\n",
    "        obs, info = env.reset()\n",
    "        \n",
    "env.close()"
   ]
  },
  {
   "cell_type": "markdown",
   "id": "5e705b6c",
   "metadata": {},
   "source": [
    "## 3. Defining a Custom Humanoid XML\n",
    "Here we create a simple humanoid XML file (`my_humanoid.xml`) for customization."
   ]
  },
  {
   "cell_type": "code",
   "execution_count": 7,
   "id": "ed8b35e6",
   "metadata": {},
   "outputs": [
    {
     "name": "stdout",
     "output_type": "stream",
     "text": [
      "Custom XML saved to my_humanoid.xml\n"
     ]
    }
   ],
   "source": [
    "xml_content = '''<mujoco model=\"my_humanoid\">\n",
    "  <compiler angle=\"degree\"/>\n",
    "  <default>\n",
    "    <joint armature=\"0.01\" limited=\"true\" damping=\"1\"/>\n",
    "    <geom friction=\"1 0.5 0.5\" density=\"1000\"/>\n",
    "  </default>\n",
    "  <worldbody>\n",
    "    <body name=\"torso\" pos=\"0 0 1.0\">\n",
    "      <joint name=\"root_x\" type=\"slide\" axis=\"1 0 0\"/>\n",
    "      <joint name=\"root_y\" type=\"slide\" axis=\"0 1 0\"/>\n",
    "      <joint name=\"root_z\" type=\"hinge\" axis=\"0 0 1\"/>\n",
    "      <geom name=\"torso_geom\" type=\"capsule\" fromto=\"0 0 0 0 0 0.5\" size=\"0.1\"/>\n",
    "      <!-- Add limbs, joints, and geoms here -->\n",
    "    </body>\n",
    "  </worldbody>\n",
    "  <actuator>\n",
    "    <motor joint=\"root_x\" ctrlrange=\"-150 150\" gear=\"100\"/>\n",
    "    <motor joint=\"root_y\" ctrlrange=\"-150 150\" gear=\"100\"/>\n",
    "    <motor joint=\"root_z\" ctrlrange=\"-150 150\" gear=\"100\"/>\n",
    "  </actuator>\n",
    "</mujoco>'''\n",
    "\n",
    "with open('my_humanoid.xml', 'w') as f:\n",
    "    f.write(xml_content)\n",
    "print('Custom XML saved to my_humanoid.xml')"
   ]
  },
  {
   "cell_type": "markdown",
   "id": "cf831143",
   "metadata": {},
   "source": [
    "## 4. Simulating the Custom Humanoid\n",
    "Load your custom XML into MuJoCo and run a simple zero-torque simulation."
   ]
  },
  {
   "cell_type": "code",
   "execution_count": null,
   "id": "1d6bd840",
   "metadata": {},
   "outputs": [],
   "source": [
    "import mujoco\n",
    "\n",
    "# Load the custom model\n",
    "model = mujoco.MjModel.from_xml_path('my_humanoid.xml')\n",
    "data = mujoco.MjData(model)\n",
    "\n",
    "# Run simulation with viewer\n",
    "with mujoco.viewer.launch_passive(model, data) as viewer:\n",
    "    for _ in range(500):\n",
    "        # Set zero control inputs\n",
    "        data.ctrl[:] = 0\n",
    "        \n",
    "        # Step the simulation\n",
    "        mujoco.mj_step(model, data)\n",
    "        \n",
    "        # Update viewer\n",
    "        viewer.sync()\n",
    "        \n",
    "        # Small delay for real-time viewing\n",
    "        import time\n",
    "        time.sleep(0.01)"
   ]
  }
 ],
 "metadata": {
  "kernelspec": {
   "display_name": "venv",
   "language": "python",
   "name": "python3"
  },
  "language_info": {
   "codemirror_mode": {
    "name": "ipython",
    "version": 3
   },
   "file_extension": ".py",
   "mimetype": "text/x-python",
   "name": "python",
   "nbconvert_exporter": "python",
   "pygments_lexer": "ipython3",
   "version": "3.13.5"
  }
 },
 "nbformat": 4,
 "nbformat_minor": 5
}
